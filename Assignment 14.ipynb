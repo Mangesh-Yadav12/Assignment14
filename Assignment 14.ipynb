{
 "cells": [
  {
   "cell_type": "markdown",
   "id": "21a47049",
   "metadata": {},
   "source": [
    "#### 1. What does RGBA stand for?\n",
    "\n",
    "Ans : RGBA(Red-Green-Blue-Alpha)\n",
    "    \n",
    "The RGB color model is extended in this specification to include “alpha” to allow specification of the opacity of a color."
   ]
  },
  {
   "cell_type": "markdown",
   "id": "9dd8633e",
   "metadata": {},
   "source": [
    "#### 2. From the Pillow module, how do you get the RGBA value of any images?"
   ]
  },
  {
   "cell_type": "code",
   "execution_count": 1,
   "id": "8f501c31",
   "metadata": {},
   "outputs": [
    {
     "name": "stdout",
     "output_type": "stream",
     "text": [
      "Requirement already satisfied: Pillow in c:\\users\\91952\\anaconda3\\lib\\site-packages (9.0.1)\n",
      "Note: you may need to restart the kernel to use updated packages.\n"
     ]
    }
   ],
   "source": [
    "pip install Pillow"
   ]
  },
  {
   "cell_type": "code",
   "execution_count": 2,
   "id": "3e7322a4",
   "metadata": {},
   "outputs": [],
   "source": [
    "from PIL import Image"
   ]
  },
  {
   "cell_type": "code",
   "execution_count": 8,
   "id": "af6f3b97",
   "metadata": {},
   "outputs": [],
   "source": [
    "img = Image.open(\"happy-shivratri-mahadev-parvati-pic.jpg\")\n",
    "\n",
    "rgba = img.convert(\"RGBA\")\n",
    "\n",
    "datas = rgba.getdata()"
   ]
  },
  {
   "cell_type": "markdown",
   "id": "684c83d5",
   "metadata": {},
   "source": [
    "#### 3. What is a box tuple, and how does it work?\n",
    "\n",
    "Ans: The box.tuple submodule provides read-only access for the tuple userdata type. It allows, for a single tuple: selective retrieval of the field contents, retrieval of information about size, iteration over all the fields, and conversion to a Lua table."
   ]
  },
  {
   "cell_type": "markdown",
   "id": "1a98a0b6",
   "metadata": {},
   "source": [
    "#### 4. Use your image and load in notebook then, How can you find out the width and height of an Image object?"
   ]
  },
  {
   "cell_type": "code",
   "execution_count": 10,
   "id": "1f92daf3",
   "metadata": {},
   "outputs": [
    {
     "name": "stdout",
     "output_type": "stream",
     "text": [
      "The height of the image is:  1308\n",
      "The width of the image is:  1080\n"
     ]
    }
   ],
   "source": [
    "# import required module\n",
    "from PIL import Image\n",
    "  \n",
    "# get image\n",
    "filepath = \"geeksforgeeks.png\"\n",
    "img = Image.open(\"happy-shivratri-mahadev-parvati-pic.jpg\")\n",
    "  \n",
    "# get width and height\n",
    "width = img.width\n",
    "height = img.height\n",
    "  \n",
    "# display width and height\n",
    "print(\"The height of the image is: \", height)\n",
    "print(\"The width of the image is: \", width)"
   ]
  },
  {
   "cell_type": "markdown",
   "id": "58078114",
   "metadata": {},
   "source": [
    "#### 5. What method would you call to get Image object for a 100×100 image, excluding the lower-left quarter of it?\n",
    "\n",
    "Ans : The crop() method on Image objects takes a box tuple and returns an Image object representing the cropped image."
   ]
  },
  {
   "cell_type": "markdown",
   "id": "cdd64f70",
   "metadata": {},
   "source": [
    "#### 6. After making changes to an Image object, how could you save it as an image file?"
   ]
  },
  {
   "cell_type": "code",
   "execution_count": 11,
   "id": "cb76fbec",
   "metadata": {},
   "outputs": [],
   "source": [
    "# Importing Image module from PIL package \n",
    "from PIL import Image \n",
    "import PIL \n",
    "  \n",
    "# creating a image object (main image) \n",
    "im1 = Image.open(\"happy-shivratri-mahadev-parvati-pic.jpg\") \n",
    "  \n",
    "# save a image using extension\n",
    "im1 = im1.save(\"Maha_dev.jpg\")"
   ]
  },
  {
   "cell_type": "markdown",
   "id": "b4dd0003",
   "metadata": {},
   "source": [
    "#### 7. What module contains Pillow’s shape-drawing code?\n",
    "\n",
    "Ans: The 'ImageDraw' module provides simple 2D graphics support for Image Object. Generally, we use this module to create new images, annotate or retouch existing images and to generate graphics on the fly for web use. The graphics commands support the drawing of shapes and annotation of text."
   ]
  },
  {
   "cell_type": "code",
   "execution_count": 14,
   "id": "c2912f6c",
   "metadata": {},
   "outputs": [],
   "source": [
    "# Importing Image and ImageDraw from PIL\n",
    "from PIL import Image, ImageDraw\n",
    "  \n",
    "# Opening the image to\n",
    "# be used and displaying it\n",
    "img = Image.open('happy-shivratri-mahadev-parvati-pic.jpg')\n"
   ]
  },
  {
   "cell_type": "code",
   "execution_count": 16,
   "id": "88df9032",
   "metadata": {},
   "outputs": [],
   "source": [
    "img.show(\"happy-shivratri-mahadev-parvati-pic.jpg\")"
   ]
  },
  {
   "cell_type": "code",
   "execution_count": 17,
   "id": "132cc348",
   "metadata": {},
   "outputs": [],
   "source": [
    "# Importing Image and ImageDraw from PIL\n",
    "from PIL import Image, ImageDraw\n",
    "\n",
    "# Opening the image to be used\n",
    "img = Image.open('happy-shivratri-mahadev-parvati-pic.jpg')\n",
    "\n",
    "# Creating a Draw object\n",
    "draw = ImageDraw.Draw(img)\n",
    "\n",
    "# Drawing a green rectangle\n",
    "# in the middle of the image\n",
    "draw.rectangle(xy = (50, 50, 150, 150),\n",
    "               fill = (0, 127, 0),\n",
    "               outline = (255, 255, 255),\n",
    "               width = 5)\n",
    "\n",
    "# Method to display the modified image\n",
    "img.show()\n",
    "\n"
   ]
  },
  {
   "cell_type": "code",
   "execution_count": null,
   "id": "59500b6e",
   "metadata": {},
   "outputs": [],
   "source": [
    "8. Image objects do not have drawing methods. What kind of object does? How do you get this kind\n",
    "of object?\n",
    "\n",
    "Ans"
   ]
  }
 ],
 "metadata": {
  "kernelspec": {
   "display_name": "Python 3 (ipykernel)",
   "language": "python",
   "name": "python3"
  },
  "language_info": {
   "codemirror_mode": {
    "name": "ipython",
    "version": 3
   },
   "file_extension": ".py",
   "mimetype": "text/x-python",
   "name": "python",
   "nbconvert_exporter": "python",
   "pygments_lexer": "ipython3",
   "version": "3.9.12"
  }
 },
 "nbformat": 4,
 "nbformat_minor": 5
}
